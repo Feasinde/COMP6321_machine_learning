{
 "cells": [
  {
   "cell_type": "code",
   "execution_count": 1,
   "metadata": {},
   "outputs": [],
   "source": [
    "from src.dataset import SexPredDataset\n",
    "from src.sexpred import SexPred\n",
    "from src.train import trainIters\n",
    "\n",
    "import torch,gensim\n",
    "\n",
    "DATASET_LOCATION=\"/home/andres/COMP6321_machine_learning/data/dataset.xml\"\n",
    "PERVS_LOCATION=\"/home/andres/COMP6321_machine_learning/data/pervs.txt\"\n",
    "EMBEDDINGS_LOCATION=\"/home/andres/COMP6321_machine_learning/embeddings.bin\"\n",
    "\n",
    "ds=SexPredDataset(DATASET_LOCATION,PERVS_LOCATION,embeddings_file=EMBEDDINGS_LOCATION)\n",
    "test_size=int(0.2*len(ds))\n",
    "valid_size=int(0.1*len(ds))\n",
    "train_size=len(ds)-test_size-valid_size\n",
    "train_ds,valid_ds,test_ds=torch.utils.data.random_split(ds,(train_size,valid_size,test_size))\n",
    "\n",
    "device=torch.device(\"cuda\" if torch.cuda.is_available() else \"cpu\")\n",
    "emb=gensim.models.KeyedVectors.load_word2vec_format(EMBEDDINGS_LOCATION,binary=True)\n",
    "emb_tensor=torch.FloatTensor(emb.vectors)\n",
    "\n",
    "## CONFIG\n",
    "#########\n",
    "batch_size=16\n",
    "epochs=30\n",
    "learning_rate=1e-3\n",
    "weight_decay=0\n",
    "#########\n",
    "## END CONFIG"
   ]
  },
  {
   "cell_type": "code",
   "execution_count": 2,
   "metadata": {},
   "outputs": [
    {
     "name": "stdout",
     "output_type": "stream",
     "text": [
      "\r"
     ]
    },
    {
     "data": {
      "image/png": "[encoded data removed]",
      "text/plain": [
       "<Figure size 432x288 with 1 Axes>"
      ]
     },
     "metadata": {
      "needs_background": "light"
     },
     "output_type": "display_data"
    }
   ],
   "source": [
    "model=SexPred(emb_tensor).to(device)\n",
    "train_losses,valid_losses=trainIters(model,train_ds,valid_ds,batch_size,epochs,learning_rate,weight_decay)"
   ]
  },
  {
   "cell_type": "code",
   "execution_count": 318,
   "metadata": {},
   "outputs": [
    {
     "data": {
      "application/vnd.jupyter.widget-view+json": {
       "model_id": "",
       "version_major": 2,
       "version_minor": 0
      },
      "text/plain": [
       "HBox(children=(IntProgress(value=0, description='Testing', max=326, style=ProgressStyle(description_width='ini…"
      ]
     },
     "metadata": {},
     "output_type": "display_data"
    },
    {
     "name": "stdout",
     "output_type": "stream",
     "text": [
      "\r"
     ]
    },
    {
     "data": {
      "text/plain": [
       "1.1350041592761775"
      ]
     },
     "execution_count": 318,
     "metadata": {},
     "output_type": "execute_result"
    }
   ],
   "source": [
    "from src.train import valid\n",
    "from tqdm import tqdm_notebook as tqdm\n",
    "\n",
    "def evaluate(model,test_set):\n",
    "    \"\"\"returns perplexity of model\"\"\"\n",
    "    loss_avg=[]\n",
    "    model.eval()\n",
    "    test_dl = torch.utils.data.DataLoader(test_set,batch_size=16)\n",
    "    criterion=torch.nn.CrossEntropyLoss()\n",
    "    with torch.no_grad():\n",
    "        for x,y in tqdm(test_dl,desc=\"Testing\",leave=False):\n",
    "            input_tensor=x.to(device)\n",
    "            target=y.to(device)\n",
    "            loss,_=valid(input_tensor,target,model,criterion)\n",
    "            loss_avg.append(loss)\n",
    "        loss_avg=sum(loss_avg)/len(loss_avg)\n",
    "    return 2**loss_avg\n",
    "\n",
    "evaluate(RoboPerv,test_ds)"
   ]
  },
  {
   "cell_type": "code",
   "execution_count": 301,
   "metadata": {},
   "outputs": [
    {
     "data": {
      "text/plain": [
       "(tensor([[    1,    11,    40, 12443,   654,   226,    63,     0,     0,     0,\n",
       "              0,     0,     0,     0,     0,     0,     0,     0,     0,     0,\n",
       "              0,     0,     0,     0,     0,     0,     0,     0,     0,     0,\n",
       "              0,     0,     0,     0,     0,     0,     0,     0,     0,     0]],\n",
       "        device='cuda:0'),\n",
       " tensor([[  1,  90,  55,   0,  98, 131,   6,   0,   0,   0,   0,   0,   0,   0,\n",
       "            0,   0,   0,   0,   0,   0,   0,   0,   0,   0,   0,   0,   0,   0,\n",
       "            0,   0,   0,   0,   0,   0,   0,   0,   0,   0,   0,   0]],\n",
       "        device='cuda:0'))"
      ]
     },
     "execution_count": 301,
     "metadata": {},
     "output_type": "execute_result"
    }
   ],
   "source": [
    "RoboPerv=model\n",
    "sample=train_ds[4]\n",
    "x=sample[0].unsqueeze(0)\n",
    "y=sample[1].unsqueeze(0)\n",
    "sample=x.to(device),y.to(device)\n",
    "# RoboPerv(sample).max(-1)[-1]\n",
    "sample"
   ]
  },
  {
   "cell_type": "code",
   "execution_count": 228,
   "metadata": {},
   "outputs": [
    {
     "data": {
      "text/plain": [
       "('oh', 'ok', 'where', 'did', 'you', 'eos')"
      ]
     },
     "execution_count": 228,
     "metadata": {},
     "output_type": "execute_result"
    }
   ],
   "source": [
    "emb.index2word[90],emb.index2word[55],emb.index2word[98],emb.index2word[131],emb.index2word[6],emb.index2word[0]"
   ]
  },
  {
   "cell_type": "code",
   "execution_count": 308,
   "metadata": {},
   "outputs": [
    {
     "name": "stdout",
     "output_type": "stream",
     "text": [
      "tensor([[1, 8, 8, 8]], device='cuda:0')\n"
     ]
    }
   ],
   "source": [
    "def predict(input_,model=model):\n",
    "    encoder=model.encoder\n",
    "    decoder=model.decoder\n",
    "    hidden=encoder.initHidden(1).to(device)\n",
    "    _,hidden=encoder(input_,hidden)\n",
    "    pred=torch.tensor([]).unsqueeze(0).to(device)\n",
    "    pred,h=model.decoder(pred,hidden)\n",
    "    pred=torch.nn.functional.softmax(pred,dim=-1)\n",
    "    pred=pred.max(-1)[1]\n",
    "    print(pred)\n",
    "                       \n",
    "#     while token!=0:\n",
    "#     for n in range(10):\n",
    "#         pred,hidden=model.decoder(pred,hidden)\n",
    "#         print(pred.max(-1)[1])\n",
    "#         pred=pred.max(-1)[1]\n",
    "#         print(pred)\n",
    "#         pred=torch.nn.functional.softmax(pred,dim=-1)\n",
    "#         if len(pred_sent)==1:\n",
    "#             pred=pred.max(-1)[-1].squeeze().item()\n",
    "#         else: pred=pred.max(-1)[-1].squeeze()[-1].item()\n",
    "#         pred_sent.append(pred)\n",
    "#         print(pred_sent)\n",
    "            \n",
    "#         print(pred.shape)\n",
    "#         print(pred.shape)\n",
    "#         pred=pred.item()\n",
    "#         pred_sent.append(pred)\n",
    "        \n",
    "#     return pred_sent\n",
    "\n",
    "predict(sample[0],RoboPerv)\n",
    "# s=s[:,:1]\n",
    "# s.shape\n",
    "# RoboPerv.decoder(s,h)"
   ]
  },
  {
   "cell_type": "code",
   "execution_count": 238,
   "metadata": {},
   "outputs": [
    {
     "data": {
      "text/plain": [
       "('html', 'youre', 'clean', 'dinner')"
      ]
     },
     "execution_count": 238,
     "metadata": {},
     "output_type": "execute_result"
    }
   ],
   "source": [
    "emb.index2word[34],emb.index2word[1556],emb.index2word[1408],emb.index2word[1592]"
   ]
  }
 ],
 "metadata": {
  "kernelspec": {
   "display_name": "Python 3",
   "language": "python",
   "name": "python3"
  },
  "language_info": {
   "codemirror_mode": {
    "name": "ipython",
    "version": 3
   },
   "file_extension": ".py",
   "mimetype": "text/x-python",
   "name": "python",
   "nbconvert_exporter": "python",
   "pygments_lexer": "ipython3",
   "version": "3.7.3"
  }
 },
 "nbformat": 4,
 "nbformat_minor": 2
}
